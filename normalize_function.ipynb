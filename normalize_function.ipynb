{
 "cells": [
  {
   "cell_type": "code",
   "execution_count": 1,
   "metadata": {},
   "outputs": [],
   "source": [
    "import numpy as np \n",
    "\n",
    "def normalize(df, op):\n",
    "     \n",
    "    if op == 0: # z-score normalisation\n",
    "        for colName, colData in df.items():\n",
    "            df[colName] = (colData - np.mean(colData)) / (np.std(colData))\n",
    "    elif op == 1: # min max normalization\n",
    "        for colName, colData in df.items():       \n",
    "            df[colName] = (colData - np.min(colData)) / (np.max(colData) - np.min(colData))\n",
    "\n",
    "    return df"
   ]
  }
 ],
 "metadata": {
  "kernelspec": {
   "display_name": "base",
   "language": "python",
   "name": "python3"
  },
  "language_info": {
   "codemirror_mode": {
    "name": "ipython",
    "version": 3
   },
   "file_extension": ".py",
   "mimetype": "text/x-python",
   "name": "python",
   "nbconvert_exporter": "python",
   "pygments_lexer": "ipython3",
   "version": "3.11.3"
  }
 },
 "nbformat": 4,
 "nbformat_minor": 2
}
